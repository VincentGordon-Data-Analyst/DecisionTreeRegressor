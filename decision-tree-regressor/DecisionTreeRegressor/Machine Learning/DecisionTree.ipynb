{
 "cells": [
  {
   "cell_type": "code",
   "execution_count": 1,
   "id": "23737335",
   "metadata": {},
   "outputs": [],
   "source": [
    "# Initial imports\n",
    "import pandas as pd\n",
    "import matplotlib.pyplot as plt\n",
    "import seaborn as sns\n",
    "from pathlib import Path\n",
    "from sklearn import tree\n",
    "from sklearn.preprocessing import StandardScaler, MinMaxScaler\n",
    "from sklearn.tree import DecisionTreeRegressor\n",
    "from sklearn.model_selection import train_test_split\n",
    "from sklearn.metrics import confusion_matrix, accuracy_score, classification_report"
   ]
  },
  {
   "cell_type": "code",
   "execution_count": 2,
   "id": "e6ab764d",
   "metadata": {},
   "outputs": [
    {
     "data": {
      "text/html": [
       "<div>\n",
       "<style scoped>\n",
       "    .dataframe tbody tr th:only-of-type {\n",
       "        vertical-align: middle;\n",
       "    }\n",
       "\n",
       "    .dataframe tbody tr th {\n",
       "        vertical-align: top;\n",
       "    }\n",
       "\n",
       "    .dataframe thead th {\n",
       "        text-align: right;\n",
       "    }\n",
       "</style>\n",
       "<table border=\"1\" class=\"dataframe\">\n",
       "  <thead>\n",
       "    <tr style=\"text-align: right;\">\n",
       "      <th></th>\n",
       "      <th>lat</th>\n",
       "      <th>lon</th>\n",
       "      <th>city</th>\n",
       "      <th>style</th>\n",
       "      <th>building_type</th>\n",
       "      <th>cooling_type</th>\n",
       "      <th>heating_type</th>\n",
       "      <th>price</th>\n",
       "      <th>number_of_beds</th>\n",
       "      <th>number_of_baths</th>\n",
       "      <th>extra_space</th>\n",
       "      <th>fire_place</th>\n",
       "    </tr>\n",
       "  </thead>\n",
       "  <tbody>\n",
       "    <tr>\n",
       "      <th>0</th>\n",
       "      <td>43.333410</td>\n",
       "      <td>-79.882930</td>\n",
       "      <td>Waterdown</td>\n",
       "      <td>Townhouse</td>\n",
       "      <td>Row / Townhouse</td>\n",
       "      <td>Central air conditioning</td>\n",
       "      <td>Forced air</td>\n",
       "      <td>749900.0</td>\n",
       "      <td>2</td>\n",
       "      <td>3</td>\n",
       "      <td>0</td>\n",
       "      <td>0</td>\n",
       "    </tr>\n",
       "    <tr>\n",
       "      <th>1</th>\n",
       "      <td>43.856371</td>\n",
       "      <td>-79.337682</td>\n",
       "      <td>Markham</td>\n",
       "      <td>Detached</td>\n",
       "      <td>House</td>\n",
       "      <td>Central air conditioning</td>\n",
       "      <td>Forced air</td>\n",
       "      <td>2998000.0</td>\n",
       "      <td>5</td>\n",
       "      <td>8</td>\n",
       "      <td>1</td>\n",
       "      <td>1</td>\n",
       "    </tr>\n",
       "    <tr>\n",
       "      <th>2</th>\n",
       "      <td>43.670890</td>\n",
       "      <td>-79.316931</td>\n",
       "      <td>Toronto</td>\n",
       "      <td>Detached</td>\n",
       "      <td>House</td>\n",
       "      <td>Central air conditioning</td>\n",
       "      <td>Forced air</td>\n",
       "      <td>2599900.0</td>\n",
       "      <td>3</td>\n",
       "      <td>4</td>\n",
       "      <td>0</td>\n",
       "      <td>1</td>\n",
       "    </tr>\n",
       "    <tr>\n",
       "      <th>3</th>\n",
       "      <td>43.589623</td>\n",
       "      <td>-79.644388</td>\n",
       "      <td>Mississauga</td>\n",
       "      <td>Semi-Detached</td>\n",
       "      <td>House</td>\n",
       "      <td>Central air conditioning</td>\n",
       "      <td>Forced air</td>\n",
       "      <td>2499850.0</td>\n",
       "      <td>4</td>\n",
       "      <td>4</td>\n",
       "      <td>1</td>\n",
       "      <td>0</td>\n",
       "    </tr>\n",
       "    <tr>\n",
       "      <th>4</th>\n",
       "      <td>43.447436</td>\n",
       "      <td>-79.666672</td>\n",
       "      <td>Oakville</td>\n",
       "      <td>Detached</td>\n",
       "      <td>House</td>\n",
       "      <td>Central air conditioning</td>\n",
       "      <td>Forced air</td>\n",
       "      <td>1999000.0</td>\n",
       "      <td>5</td>\n",
       "      <td>4</td>\n",
       "      <td>0</td>\n",
       "      <td>1</td>\n",
       "    </tr>\n",
       "  </tbody>\n",
       "</table>\n",
       "</div>"
      ],
      "text/plain": [
       "         lat        lon         city          style    building_type  \\\n",
       "0  43.333410 -79.882930    Waterdown      Townhouse  Row / Townhouse   \n",
       "1  43.856371 -79.337682      Markham       Detached            House   \n",
       "2  43.670890 -79.316931      Toronto       Detached            House   \n",
       "3  43.589623 -79.644388  Mississauga  Semi-Detached            House   \n",
       "4  43.447436 -79.666672     Oakville       Detached            House   \n",
       "\n",
       "               cooling_type heating_type      price  number_of_beds  \\\n",
       "0  Central air conditioning   Forced air   749900.0               2   \n",
       "1  Central air conditioning   Forced air  2998000.0               5   \n",
       "2  Central air conditioning   Forced air  2599900.0               3   \n",
       "3  Central air conditioning   Forced air  2499850.0               4   \n",
       "4  Central air conditioning   Forced air  1999000.0               5   \n",
       "\n",
       "   number_of_baths  extra_space  fire_place  \n",
       "0                3            0           0  \n",
       "1                8            1           1  \n",
       "2                4            0           1  \n",
       "3                4            1           0  \n",
       "4                4            0           1  "
      ]
     },
     "execution_count": 2,
     "metadata": {},
     "output_type": "execute_result"
    }
   ],
   "source": [
    "# Read the CSV file from the Resources folder into a Pandas DataFrame\n",
    "df = pd.read_csv(\"../Web Scraping/predicting_house_price.csv\")\n",
    "df = df.drop([\"Unnamed: 0\"], axis =1)\n",
    "\n",
    "# Review the DataFrame\n",
    "df.head()"
   ]
  },
  {
   "cell_type": "code",
   "execution_count": 3,
   "id": "fbe6ebab",
   "metadata": {},
   "outputs": [
    {
     "data": {
      "text/plain": [
       "Forced air                               564\n",
       "Baseboard heaters                         10\n",
       "Hot water radiator heat                    9\n",
       "Radiant heat                               8\n",
       "Boiler                                     3\n",
       "Heat Pump                                  3\n",
       "Baseboard heaters, Forced air              2\n",
       "Forced air, Heat Pump                      2\n",
       "Baseboard heaters, Heat Pump               2\n",
       "Hot water radiator heat, Radiant heat      2\n",
       "Baseboard heaters, Other                   1\n",
       "Baseboard heaters, Boiler                  1\n",
       "Radiant heat, Boiler                       1\n",
       "Forced air, Wood Stove                     1\n",
       "Name: heating_type, dtype: int64"
      ]
     },
     "execution_count": 3,
     "metadata": {},
     "output_type": "execute_result"
    }
   ],
   "source": [
    "df['heating_type'].value_counts()"
   ]
  },
  {
   "cell_type": "code",
   "execution_count": 4,
   "id": "b0001998",
   "metadata": {},
   "outputs": [],
   "source": [
    "df = df.loc[(df['heating_type'] == 'Forced air') | (df['heating_type'] == 'Baseboard heaters')]"
   ]
  },
  {
   "cell_type": "code",
   "execution_count": 5,
   "id": "df670e16",
   "metadata": {},
   "outputs": [],
   "source": [
    "df['heating_type'] = df['heating_type'].map({'Forced air': 0, 'Baseboard heaters': 1})"
   ]
  },
  {
   "cell_type": "code",
   "execution_count": 6,
   "id": "32ce5724",
   "metadata": {},
   "outputs": [
    {
     "data": {
      "text/plain": [
       "Central air conditioning                           552\n",
       "Wall unit                                            6\n",
       "None                                                 6\n",
       "Central air conditioning, Fully air conditioned      4\n",
       "Window air conditioner                               4\n",
       "Air exchanger, Central air conditioning              2\n",
       "Name: cooling_type, dtype: int64"
      ]
     },
     "execution_count": 6,
     "metadata": {},
     "output_type": "execute_result"
    }
   ],
   "source": [
    "df['cooling_type'].value_counts()"
   ]
  },
  {
   "cell_type": "code",
   "execution_count": 7,
   "id": "12a97a6b",
   "metadata": {},
   "outputs": [],
   "source": [
    "df = df.loc[(df['cooling_type'] == 'Central air conditioning') | (df['cooling_type'] == 'Wall unit') | (df['cooling_type'] == 'None')] "
   ]
  },
  {
   "cell_type": "code",
   "execution_count": 8,
   "id": "260c06f1",
   "metadata": {},
   "outputs": [],
   "source": [
    "df['cooling_type'] = df['cooling_type'].map({'Central air conditioning': 0, 'Wall unit': 1, 'None': 2})"
   ]
  },
  {
   "cell_type": "code",
   "execution_count": 9,
   "id": "b8ecbfa2",
   "metadata": {},
   "outputs": [
    {
     "data": {
      "text/plain": [
       "array(['Row / Townhouse', 'House'], dtype=object)"
      ]
     },
     "execution_count": 9,
     "metadata": {},
     "output_type": "execute_result"
    }
   ],
   "source": [
    "df['building_type'].unique()"
   ]
  },
  {
   "cell_type": "code",
   "execution_count": 10,
   "id": "a8385134",
   "metadata": {},
   "outputs": [],
   "source": [
    "df['building_type'] = df['building_type'].map({'Row / Townhouse': 1, 'House': 2, 'Mobile Home': 3})"
   ]
  },
  {
   "cell_type": "code",
   "execution_count": 11,
   "id": "0b5bc1f2",
   "metadata": {},
   "outputs": [
    {
     "data": {
      "text/plain": [
       "array(['Townhouse', 'Detached', 'Semi-Detached'], dtype=object)"
      ]
     },
     "execution_count": 11,
     "metadata": {},
     "output_type": "execute_result"
    }
   ],
   "source": [
    "df['style'].unique()"
   ]
  },
  {
   "cell_type": "code",
   "execution_count": 12,
   "id": "b8a8eff2",
   "metadata": {},
   "outputs": [],
   "source": [
    "# Townhouse=1, Detached=2, Semi=Detached=3\n",
    "df['style'] = df['style'].map({'Townhouse': 1, 'Detached': 2, 'Semi-Detached': 3})\n"
   ]
  },
  {
   "cell_type": "code",
   "execution_count": 13,
   "id": "efdab670",
   "metadata": {},
   "outputs": [
    {
     "name": "stderr",
     "output_type": "stream",
     "text": [
      "C:\\Users\\User\\AppData\\Local\\Temp\\ipykernel_24552\\385706301.py:3: SettingWithCopyWarning: \n",
      "A value is trying to be set on a copy of a slice from a DataFrame.\n",
      "Try using .loc[row_indexer,col_indexer] = value instead\n",
      "\n",
      "See the caveats in the documentation: https://pandas.pydata.org/pandas-docs/stable/user_guide/indexing.html#returning-a-view-versus-a-copy\n",
      "  west_df['city'] = west_df['city'].map({'Toronto': 1, 'Ottawa': 2})\n"
     ]
    },
    {
     "data": {
      "text/html": [
       "<div>\n",
       "<style scoped>\n",
       "    .dataframe tbody tr th:only-of-type {\n",
       "        vertical-align: middle;\n",
       "    }\n",
       "\n",
       "    .dataframe tbody tr th {\n",
       "        vertical-align: top;\n",
       "    }\n",
       "\n",
       "    .dataframe thead th {\n",
       "        text-align: right;\n",
       "    }\n",
       "</style>\n",
       "<table border=\"1\" class=\"dataframe\">\n",
       "  <thead>\n",
       "    <tr style=\"text-align: right;\">\n",
       "      <th></th>\n",
       "      <th>lat</th>\n",
       "      <th>lon</th>\n",
       "      <th>city</th>\n",
       "      <th>style</th>\n",
       "      <th>building_type</th>\n",
       "      <th>cooling_type</th>\n",
       "      <th>heating_type</th>\n",
       "      <th>price</th>\n",
       "      <th>number_of_beds</th>\n",
       "      <th>number_of_baths</th>\n",
       "      <th>extra_space</th>\n",
       "      <th>fire_place</th>\n",
       "    </tr>\n",
       "  </thead>\n",
       "  <tbody>\n",
       "    <tr>\n",
       "      <th>2</th>\n",
       "      <td>43.670890</td>\n",
       "      <td>-79.316931</td>\n",
       "      <td>1</td>\n",
       "      <td>2</td>\n",
       "      <td>2</td>\n",
       "      <td>0</td>\n",
       "      <td>0</td>\n",
       "      <td>2599900.0</td>\n",
       "      <td>3</td>\n",
       "      <td>4</td>\n",
       "      <td>0</td>\n",
       "      <td>1</td>\n",
       "    </tr>\n",
       "    <tr>\n",
       "      <th>12</th>\n",
       "      <td>45.420878</td>\n",
       "      <td>-75.690111</td>\n",
       "      <td>2</td>\n",
       "      <td>2</td>\n",
       "      <td>2</td>\n",
       "      <td>0</td>\n",
       "      <td>0</td>\n",
       "      <td>866000.0</td>\n",
       "      <td>3</td>\n",
       "      <td>2</td>\n",
       "      <td>0</td>\n",
       "      <td>0</td>\n",
       "    </tr>\n",
       "    <tr>\n",
       "      <th>13</th>\n",
       "      <td>43.641342</td>\n",
       "      <td>-79.399759</td>\n",
       "      <td>1</td>\n",
       "      <td>1</td>\n",
       "      <td>1</td>\n",
       "      <td>1</td>\n",
       "      <td>1</td>\n",
       "      <td>838000.0</td>\n",
       "      <td>2</td>\n",
       "      <td>2</td>\n",
       "      <td>1</td>\n",
       "      <td>1</td>\n",
       "    </tr>\n",
       "    <tr>\n",
       "      <th>15</th>\n",
       "      <td>45.420878</td>\n",
       "      <td>-75.690111</td>\n",
       "      <td>2</td>\n",
       "      <td>1</td>\n",
       "      <td>1</td>\n",
       "      <td>0</td>\n",
       "      <td>0</td>\n",
       "      <td>645900.0</td>\n",
       "      <td>3</td>\n",
       "      <td>2</td>\n",
       "      <td>0</td>\n",
       "      <td>1</td>\n",
       "    </tr>\n",
       "    <tr>\n",
       "      <th>29</th>\n",
       "      <td>43.680090</td>\n",
       "      <td>-79.354896</td>\n",
       "      <td>1</td>\n",
       "      <td>2</td>\n",
       "      <td>2</td>\n",
       "      <td>0</td>\n",
       "      <td>0</td>\n",
       "      <td>2195000.0</td>\n",
       "      <td>4</td>\n",
       "      <td>5</td>\n",
       "      <td>1</td>\n",
       "      <td>1</td>\n",
       "    </tr>\n",
       "  </tbody>\n",
       "</table>\n",
       "</div>"
      ],
      "text/plain": [
       "          lat        lon  city  style  building_type  cooling_type  \\\n",
       "2   43.670890 -79.316931     1      2              2             0   \n",
       "12  45.420878 -75.690111     2      2              2             0   \n",
       "13  43.641342 -79.399759     1      1              1             1   \n",
       "15  45.420878 -75.690111     2      1              1             0   \n",
       "29  43.680090 -79.354896     1      2              2             0   \n",
       "\n",
       "    heating_type      price  number_of_beds  number_of_baths  extra_space  \\\n",
       "2              0  2599900.0               3                4            0   \n",
       "12             0   866000.0               3                2            0   \n",
       "13             1   838000.0               2                2            1   \n",
       "15             0   645900.0               3                2            0   \n",
       "29             0  2195000.0               4                5            1   \n",
       "\n",
       "    fire_place  \n",
       "2            1  \n",
       "12           0  \n",
       "13           1  \n",
       "15           1  \n",
       "29           1  "
      ]
     },
     "execution_count": 13,
     "metadata": {},
     "output_type": "execute_result"
    }
   ],
   "source": [
    "west_df = df.loc[(df['city'] == 'Toronto') | (df['city'] == 'Ottawa')]\n",
    "\n",
    "west_df['city'] = west_df['city'].map({'Toronto': 1, 'Ottawa': 2})\n",
    "\n",
    "\n",
    "west_df.head()"
   ]
  },
  {
   "cell_type": "code",
   "execution_count": 14,
   "id": "9c996965",
   "metadata": {},
   "outputs": [
    {
     "name": "stdout",
     "output_type": "stream",
     "text": [
      "                      lat       lon      city     style  building_type  \\\n",
      "lat              1.000000  0.998785  0.998961 -0.050920      -0.075220   \n",
      "lon              0.998785  1.000000  0.999049 -0.050394      -0.077625   \n",
      "city             0.998961  0.999049  1.000000 -0.047542      -0.075465   \n",
      "style           -0.050920 -0.050394 -0.047542  1.000000       0.817391   \n",
      "building_type   -0.075220 -0.077625 -0.075465  0.817391       1.000000   \n",
      "cooling_type     0.030590  0.037178  0.036236  0.014869      -0.071133   \n",
      "heating_type    -0.124757 -0.116002 -0.119358 -0.165761      -0.175000   \n",
      "price           -0.403839 -0.406052 -0.403563  0.192567       0.353138   \n",
      "number_of_beds  -0.000292 -0.007220 -0.002140  0.184868       0.365163   \n",
      "number_of_baths  0.008602  0.001958  0.000229  0.131046       0.248260   \n",
      "extra_space     -0.345689 -0.351843 -0.349966 -0.079225      -0.017150   \n",
      "fire_place       0.109669  0.107175  0.104984  0.113321       0.229133   \n",
      "\n",
      "                 cooling_type  heating_type     price  number_of_beds  \\\n",
      "lat                  0.030590     -0.124757 -0.403839       -0.000292   \n",
      "lon                  0.037178     -0.116002 -0.406052       -0.007220   \n",
      "city                 0.036236     -0.119358 -0.403563       -0.002140   \n",
      "style                0.014869     -0.165761  0.192567        0.184868   \n",
      "building_type       -0.071133     -0.175000  0.353138        0.365163   \n",
      "cooling_type         1.000000      0.417221 -0.148538       -0.304056   \n",
      "heating_type         0.417221      1.000000 -0.109370       -0.195977   \n",
      "price               -0.148538     -0.109370  1.000000        0.418757   \n",
      "number_of_beds      -0.304056     -0.195977  0.418757        1.000000   \n",
      "number_of_baths     -0.289579     -0.215555  0.567182        0.527210   \n",
      "extra_space         -0.032844      0.182217  0.140052       -0.148904   \n",
      "fire_place          -0.130078     -0.071604  0.332036        0.338776   \n",
      "\n",
      "                 number_of_baths  extra_space  fire_place  \n",
      "lat                     0.008602    -0.345689    0.109669  \n",
      "lon                     0.001958    -0.351843    0.107175  \n",
      "city                    0.000229    -0.349966    0.104984  \n",
      "style                   0.131046    -0.079225    0.113321  \n",
      "building_type           0.248260    -0.017150    0.229133  \n",
      "cooling_type           -0.289579    -0.032844   -0.130078  \n",
      "heating_type           -0.215555     0.182217   -0.071604  \n",
      "price                   0.567182     0.140052    0.332036  \n",
      "number_of_beds          0.527210    -0.148904    0.338776  \n",
      "number_of_baths         1.000000     0.100067    0.412371  \n",
      "extra_space             0.100067     1.000000   -0.028244  \n",
      "fire_place              0.412371    -0.028244    1.000000  \n"
     ]
    }
   ],
   "source": [
    "# Look at correlation matrix\n",
    "print(west_df.corr())"
   ]
  },
  {
   "cell_type": "code",
   "execution_count": 15,
   "id": "f19c751a",
   "metadata": {
    "scrolled": true
   },
   "outputs": [
    {
     "data": {
      "image/png": "[encoded data removed]",
      "text/plain": [
       "<Figure size 1440x1080 with 2 Axes>"
      ]
     },
     "metadata": {
      "needs_background": "light"
     },
     "output_type": "display_data"
    }
   ],
   "source": [
    "# Plot matrix\n",
    "plt.figure(figsize=(20, 15))\n",
    "correlations = west_df.corr()\n",
    "sns.heatmap(correlations, cmap=\"coolwarm\", annot=True)\n",
    "plt.show()"
   ]
  },
  {
   "cell_type": "code",
   "execution_count": 16,
   "id": "4ed582f4",
   "metadata": {},
   "outputs": [
    {
     "data": {
      "text/html": [
       "<div>\n",
       "<style scoped>\n",
       "    .dataframe tbody tr th:only-of-type {\n",
       "        vertical-align: middle;\n",
       "    }\n",
       "\n",
       "    .dataframe tbody tr th {\n",
       "        vertical-align: top;\n",
       "    }\n",
       "\n",
       "    .dataframe thead th {\n",
       "        text-align: right;\n",
       "    }\n",
       "</style>\n",
       "<table border=\"1\" class=\"dataframe\">\n",
       "  <thead>\n",
       "    <tr style=\"text-align: right;\">\n",
       "      <th></th>\n",
       "      <th>city</th>\n",
       "      <th>style</th>\n",
       "      <th>building_type</th>\n",
       "      <th>cooling_type</th>\n",
       "      <th>heating_type</th>\n",
       "      <th>number_of_beds</th>\n",
       "      <th>number_of_baths</th>\n",
       "      <th>extra_space</th>\n",
       "      <th>fire_place</th>\n",
       "    </tr>\n",
       "  </thead>\n",
       "  <tbody>\n",
       "    <tr>\n",
       "      <th>2</th>\n",
       "      <td>1</td>\n",
       "      <td>2</td>\n",
       "      <td>2</td>\n",
       "      <td>0</td>\n",
       "      <td>0</td>\n",
       "      <td>3</td>\n",
       "      <td>4</td>\n",
       "      <td>0</td>\n",
       "      <td>1</td>\n",
       "    </tr>\n",
       "    <tr>\n",
       "      <th>12</th>\n",
       "      <td>2</td>\n",
       "      <td>2</td>\n",
       "      <td>2</td>\n",
       "      <td>0</td>\n",
       "      <td>0</td>\n",
       "      <td>3</td>\n",
       "      <td>2</td>\n",
       "      <td>0</td>\n",
       "      <td>0</td>\n",
       "    </tr>\n",
       "    <tr>\n",
       "      <th>13</th>\n",
       "      <td>1</td>\n",
       "      <td>1</td>\n",
       "      <td>1</td>\n",
       "      <td>1</td>\n",
       "      <td>1</td>\n",
       "      <td>2</td>\n",
       "      <td>2</td>\n",
       "      <td>1</td>\n",
       "      <td>1</td>\n",
       "    </tr>\n",
       "    <tr>\n",
       "      <th>15</th>\n",
       "      <td>2</td>\n",
       "      <td>1</td>\n",
       "      <td>1</td>\n",
       "      <td>0</td>\n",
       "      <td>0</td>\n",
       "      <td>3</td>\n",
       "      <td>2</td>\n",
       "      <td>0</td>\n",
       "      <td>1</td>\n",
       "    </tr>\n",
       "    <tr>\n",
       "      <th>29</th>\n",
       "      <td>1</td>\n",
       "      <td>2</td>\n",
       "      <td>2</td>\n",
       "      <td>0</td>\n",
       "      <td>0</td>\n",
       "      <td>4</td>\n",
       "      <td>5</td>\n",
       "      <td>1</td>\n",
       "      <td>1</td>\n",
       "    </tr>\n",
       "  </tbody>\n",
       "</table>\n",
       "</div>"
      ],
      "text/plain": [
       "    city  style  building_type  cooling_type  heating_type  number_of_beds  \\\n",
       "2      1      2              2             0             0               3   \n",
       "12     2      2              2             0             0               3   \n",
       "13     1      1              1             1             1               2   \n",
       "15     2      1              1             0             0               3   \n",
       "29     1      2              2             0             0               4   \n",
       "\n",
       "    number_of_baths  extra_space  fire_place  \n",
       "2                 4            0           1  \n",
       "12                2            0           0  \n",
       "13                2            1           1  \n",
       "15                2            0           1  \n",
       "29                5            1           1  "
      ]
     },
     "execution_count": 16,
     "metadata": {},
     "output_type": "execute_result"
    }
   ],
   "source": [
    "# Turn categorical columns to 1's/0's\n",
    "# df_encoded = pd.get_dummies(west_df, columns=['city', 'style', 'building_type', 'cooling_type', 'heating_type'])\n",
    "new_df = west_df.drop(columns=[\"lat\", \"lon\", \"price\"])\n",
    "\n",
    "new_df.head() "
   ]
  },
  {
   "cell_type": "markdown",
   "id": "2ec82dff",
   "metadata": {},
   "source": [
    "# Preprocessing Data"
   ]
  },
  {
   "cell_type": "code",
   "execution_count": 17,
   "id": "63c68147",
   "metadata": {},
   "outputs": [
    {
     "data": {
      "text/html": [
       "<div>\n",
       "<style scoped>\n",
       "    .dataframe tbody tr th:only-of-type {\n",
       "        vertical-align: middle;\n",
       "    }\n",
       "\n",
       "    .dataframe tbody tr th {\n",
       "        vertical-align: top;\n",
       "    }\n",
       "\n",
       "    .dataframe thead th {\n",
       "        text-align: right;\n",
       "    }\n",
       "</style>\n",
       "<table border=\"1\" class=\"dataframe\">\n",
       "  <thead>\n",
       "    <tr style=\"text-align: right;\">\n",
       "      <th></th>\n",
       "      <th>city</th>\n",
       "      <th>style</th>\n",
       "      <th>building_type</th>\n",
       "      <th>cooling_type</th>\n",
       "      <th>heating_type</th>\n",
       "      <th>number_of_beds</th>\n",
       "      <th>number_of_baths</th>\n",
       "      <th>extra_space</th>\n",
       "      <th>fire_place</th>\n",
       "    </tr>\n",
       "  </thead>\n",
       "  <tbody>\n",
       "    <tr>\n",
       "      <th>0</th>\n",
       "      <td>-0.675191</td>\n",
       "      <td>0.076859</td>\n",
       "      <td>0.565685</td>\n",
       "      <td>-0.193456</td>\n",
       "      <td>-0.176777</td>\n",
       "      <td>-0.182430</td>\n",
       "      <td>1.208853</td>\n",
       "      <td>-0.970143</td>\n",
       "      <td>0.931625</td>\n",
       "    </tr>\n",
       "    <tr>\n",
       "      <th>1</th>\n",
       "      <td>1.481063</td>\n",
       "      <td>0.076859</td>\n",
       "      <td>0.565685</td>\n",
       "      <td>-0.193456</td>\n",
       "      <td>-0.176777</td>\n",
       "      <td>-0.182430</td>\n",
       "      <td>-0.872477</td>\n",
       "      <td>-0.970143</td>\n",
       "      <td>-1.073394</td>\n",
       "    </tr>\n",
       "    <tr>\n",
       "      <th>2</th>\n",
       "      <td>-0.675191</td>\n",
       "      <td>-1.444957</td>\n",
       "      <td>-1.767767</td>\n",
       "      <td>3.636969</td>\n",
       "      <td>5.656854</td>\n",
       "      <td>-1.571707</td>\n",
       "      <td>-0.872477</td>\n",
       "      <td>1.030776</td>\n",
       "      <td>0.931625</td>\n",
       "    </tr>\n",
       "    <tr>\n",
       "      <th>3</th>\n",
       "      <td>1.481063</td>\n",
       "      <td>-1.444957</td>\n",
       "      <td>-1.767767</td>\n",
       "      <td>-0.193456</td>\n",
       "      <td>-0.176777</td>\n",
       "      <td>-0.182430</td>\n",
       "      <td>-0.872477</td>\n",
       "      <td>-0.970143</td>\n",
       "      <td>0.931625</td>\n",
       "    </tr>\n",
       "    <tr>\n",
       "      <th>4</th>\n",
       "      <td>-0.675191</td>\n",
       "      <td>0.076859</td>\n",
       "      <td>0.565685</td>\n",
       "      <td>-0.193456</td>\n",
       "      <td>-0.176777</td>\n",
       "      <td>1.206847</td>\n",
       "      <td>2.249518</td>\n",
       "      <td>1.030776</td>\n",
       "      <td>0.931625</td>\n",
       "    </tr>\n",
       "  </tbody>\n",
       "</table>\n",
       "</div>"
      ],
      "text/plain": [
       "       city     style  building_type  cooling_type  heating_type  \\\n",
       "0 -0.675191  0.076859       0.565685     -0.193456     -0.176777   \n",
       "1  1.481063  0.076859       0.565685     -0.193456     -0.176777   \n",
       "2 -0.675191 -1.444957      -1.767767      3.636969      5.656854   \n",
       "3  1.481063 -1.444957      -1.767767     -0.193456     -0.176777   \n",
       "4 -0.675191  0.076859       0.565685     -0.193456     -0.176777   \n",
       "\n",
       "   number_of_beds  number_of_baths  extra_space  fire_place  \n",
       "0       -0.182430         1.208853    -0.970143    0.931625  \n",
       "1       -0.182430        -0.872477    -0.970143   -1.073394  \n",
       "2       -1.571707        -0.872477     1.030776    0.931625  \n",
       "3       -0.182430        -0.872477    -0.970143    0.931625  \n",
       "4        1.206847         2.249518     1.030776    0.931625  "
      ]
     },
     "execution_count": 17,
     "metadata": {},
     "output_type": "execute_result"
    }
   ],
   "source": [
    "# Separate the data into labels and features\n",
    "# X = new_df.copy()\n",
    "X = StandardScaler().fit_transform(new_df)\n",
    "\n",
    "X_df = pd.DataFrame(X, columns=new_df.columns)\n",
    "\n",
    "# Separate the y variable, the labels\n",
    "y = west_df[\"price\"]\n",
    "\n",
    "X_df.head()"
   ]
  },
  {
   "cell_type": "code",
   "execution_count": 18,
   "id": "31d90b7f",
   "metadata": {},
   "outputs": [
    {
     "data": {
      "text/plain": [
       "0     1.030327e+06\n",
       "1     7.712248e+05\n",
       "2     8.246333e+05\n",
       "3     1.074950e+06\n",
       "4     7.712248e+05\n",
       "5     1.859299e+06\n",
       "6     6.649750e+05\n",
       "7     6.649750e+05\n",
       "8     1.859299e+06\n",
       "9     2.279300e+06\n",
       "10    1.859299e+06\n",
       "11    2.988000e+06\n",
       "12    2.988000e+06\n",
       "13    1.030327e+06\n",
       "14    1.859299e+06\n",
       "15    1.545180e+06\n",
       "16    2.159000e+06\n",
       "17    1.545180e+06\n",
       "18    7.712248e+05\n",
       "19    6.550000e+05\n",
       "dtype: float64"
      ]
     },
     "execution_count": 18,
     "metadata": {},
     "output_type": "execute_result"
    }
   ],
   "source": [
    "from sklearn.tree import DecisionTreeRegressor\n",
    "\n",
    "# Splitting into testing/training data\n",
    "X_train, X_test, y_train, y_test = train_test_split(X_df, y, test_size=0.2, random_state=42)\n",
    "\n",
    "\n",
    "# Create decision tree regression instance\n",
    "model = DecisionTreeRegressor(max_depth=5)\n",
    "\n",
    "# Fit model\n",
    "model = model.fit(X_train, y_train)\n",
    "\n",
    "# Making predictions using scaled data\n",
    "predictions = model.predict(X_test)\n",
    "\n",
    "# Print prdicted price for tested features\n",
    "y_pred = pd.Series(predictions.tolist())\n",
    "y_pred"
   ]
  },
  {
   "cell_type": "markdown",
   "id": "8c4240a1",
   "metadata": {},
   "source": [
    "# Sumary of Data"
   ]
  },
  {
   "cell_type": "code",
   "execution_count": 19,
   "id": "d759635f",
   "metadata": {},
   "outputs": [
    {
     "name": "stdout",
     "output_type": "stream",
     "text": [
      "The score is 0.6994576943952595.\n",
      "The r2 is 0.3852802928188457.\n",
      "The mean squared error is 371546765101.5504.\n",
      "The root mean squared error is 609546.3600921184.\n",
      "The standard deviation is 646709.6082836475.\n"
     ]
    }
   ],
   "source": [
    "# Import relevant metrics from scikit-learn: score, r2, mse, rmse, std\n",
    "from sklearn.metrics import mean_squared_error, r2_score\n",
    "import numpy as np\n",
    "\n",
    "# Compute the metrics for the linear regression model\n",
    "score = model.score(X_train, y_train, sample_weight=None)\n",
    "r2 = r2_score(y_test, y_pred)\n",
    "mse = mean_squared_error(y_test, y_pred)\n",
    "rmse = np.sqrt(mse)\n",
    "std = np.std(y)\n",
    "\n",
    "# Print releveant metrics.\n",
    "print(f\"The score is {score}.\")\n",
    "print(f\"The r2 is {r2}.\")\n",
    "print(f\"The mean squared error is {mse}.\")\n",
    "print(f\"The root mean squared error is {rmse}.\")\n",
    "print(f\"The standard deviation is {std}.\")"
   ]
  },
  {
   "cell_type": "code",
   "execution_count": 20,
   "id": "d310aeb8",
   "metadata": {},
   "outputs": [
    {
     "name": "stdout",
     "output_type": "stream",
     "text": [
      "mean cross validation score: 0.22306832803524265\n"
     ]
    }
   ],
   "source": [
    "from sklearn.model_selection import cross_val_score\n",
    "from sklearn import svm\n",
    "\n",
    "scores = cross_val_score(model, X_train, y_train, cv=5)\n",
    "print(\"mean cross validation score: {}\".format(np.mean(scores)))"
   ]
  },
  {
   "cell_type": "code",
   "execution_count": 21,
   "id": "e73e5a7c",
   "metadata": {},
   "outputs": [
    {
     "data": {
      "text/plain": [
       "0.5629405533636149"
      ]
     },
     "execution_count": 21,
     "metadata": {},
     "output_type": "execute_result"
    }
   ],
   "source": [
    "from sklearn.model_selection import GridSearchCV \n",
    "from sklearn.metrics import make_scorer \n",
    "from sklearn.metrics import mean_absolute_error \n",
    "from sklearn.metrics import r2_score\n",
    "scoring = make_scorer(r2_score)\n",
    "\n",
    "g_cv = GridSearchCV(DecisionTreeRegressor(random_state=0),\n",
    "              param_grid={'min_samples_split': range(2, 10)},\n",
    "              scoring=scoring, cv=5, refit=True)\n",
    "\n",
    "g_cv.fit(X_train, y_train)\n",
    "g_cv.best_params_\n",
    "\n",
    "result = g_cv.cv_results_\n",
    "# print(result)\n",
    "r2_score(y_test, g_cv.best_estimator_.predict(X_test))"
   ]
  }
 ],
 "metadata": {
  "kernelspec": {
   "display_name": "Python 3 (ipykernel)",
   "language": "python",
   "name": "python3"
  },
  "language_info": {
   "codemirror_mode": {
    "name": "ipython",
    "version": 3
   },
   "file_extension": ".py",
   "mimetype": "text/x-python",
   "name": "python",
   "nbconvert_exporter": "python",
   "pygments_lexer": "ipython3",
   "version": "3.9.12"
  }
 },
 "nbformat": 4,
 "nbformat_minor": 5
}
