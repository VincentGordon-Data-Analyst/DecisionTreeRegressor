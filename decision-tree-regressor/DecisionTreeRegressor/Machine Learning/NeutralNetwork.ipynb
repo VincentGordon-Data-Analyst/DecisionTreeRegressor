{
 "cells": [
  {
   "cell_type": "code",
   "execution_count": 1,
   "id": "47248801",
   "metadata": {},
   "outputs": [],
   "source": [
    " # Import our dependencies\n",
    "import pandas as pd\n",
    "import matplotlib.pyplot as plt\n",
    "import tensorflow as tf\n"
   ]
  },
  {
   "cell_type": "code",
   "execution_count": null,
   "id": "fefc74b7",
   "metadata": {},
   "outputs": [],
   "source": [
    "df = pd.read_csv('../Resources/predicting_house_price-Copy1.csv')"
   ]
  }
 ],
 "metadata": {
  "kernelspec": {
   "display_name": "Python 3 (ipykernel)",
   "language": "python",
   "name": "python3"
  },
  "language_info": {
   "codemirror_mode": {
    "name": "ipython",
    "version": 3
   },
   "file_extension": ".py",
   "mimetype": "text/x-python",
   "name": "python",
   "nbconvert_exporter": "python",
   "pygments_lexer": "ipython3",
   "version": "3.9.12"
  }
 },
 "nbformat": 4,
 "nbformat_minor": 5
}
